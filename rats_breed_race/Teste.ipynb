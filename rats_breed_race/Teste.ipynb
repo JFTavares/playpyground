{
 "cells": [
  {
   "cell_type": "code",
   "execution_count": 130,
   "metadata": {},
   "outputs": [],
   "source": [
    "import time\n",
    "import random \n",
    "import statistics"
   ]
  },
  {
   "cell_type": "code",
   "execution_count": 148,
   "metadata": {},
   "outputs": [],
   "source": [
    "generations = 0\n",
    "def populate(num_rats, min_wt, max_wt, mode_wt):\n",
    "    \"\"\"Initialize a population with a triangular distribution of weights.\"\"\"\n",
    "    return [int(random.triangular(min_wt, max_wt, mode_wt))\\\n",
    "            for i in range(8)]"
   ]
  },
  {
   "cell_type": "code",
   "execution_count": 149,
   "metadata": {},
   "outputs": [],
   "source": [
    "to_retain = 8\n",
    "population = populate(8, 200, 600, 300)\n",
    "#['156', '278','545','789', '349', '567','678','823','200','240','569']\n",
    "sorted_population = sorted(population)\n",
    "to_retain_by_sex = to_retain//2\n",
    "members_per_sex = len(sorted_population)//2"
   ]
  },
  {
   "cell_type": "code",
   "execution_count": 150,
   "metadata": {},
   "outputs": [
    {
     "name": "stdout",
     "output_type": "stream",
     "text": [
      "[231, 248, 260, 336, 391, 457, 534, 580]\n"
     ]
    }
   ],
   "source": [
    "print(sorted_population)"
   ]
  },
  {
   "cell_type": "code",
   "execution_count": 151,
   "metadata": {},
   "outputs": [
    {
     "name": "stdout",
     "output_type": "stream",
     "text": [
      "4\n",
      "4\n"
     ]
    }
   ],
   "source": [
    "print(to_retain_by_sex)\n",
    "print(members_per_sex)"
   ]
  },
  {
   "cell_type": "code",
   "execution_count": 152,
   "metadata": {},
   "outputs": [],
   "source": [
    "females = sorted_population[:members_per_sex]\n",
    "males = sorted_population[members_per_sex:]\n",
    "selected_females = females[-to_retain_by_sex:]\n",
    "selected_males = males[-to_retain_by_sex:]"
   ]
  },
  {
   "cell_type": "code",
   "execution_count": 153,
   "metadata": {},
   "outputs": [
    {
     "name": "stdout",
     "output_type": "stream",
     "text": [
      "[231, 248, 260, 336]\n",
      "Selecionadas: [231, 248, 260, 336]\n"
     ]
    }
   ],
   "source": [
    "print(females)\n",
    "print('Selecionadas:',selected_females)"
   ]
  },
  {
   "cell_type": "code",
   "execution_count": 154,
   "metadata": {},
   "outputs": [
    {
     "name": "stdout",
     "output_type": "stream",
     "text": [
      "[391, 457, 534, 580]\n",
      "selecionados: [391, 457, 534, 580]\n"
     ]
    }
   ],
   "source": [
    "print(males)\n",
    "print('selecionados:', selected_males)"
   ]
  },
  {
   "cell_type": "code",
   "execution_count": 155,
   "metadata": {},
   "outputs": [],
   "source": [
    "litter_size = 8\n",
    "random.shuffle(selected_males)\n",
    "random.shuffle(selected_females)\n",
    "children = []"
   ]
  },
  {
   "cell_type": "code",
   "execution_count": 156,
   "metadata": {},
   "outputs": [
    {
     "name": "stdout",
     "output_type": "stream",
     "text": [
      "[534, 391, 457, 580]\n"
     ]
    }
   ],
   "source": [
    "print(selected_males)"
   ]
  },
  {
   "cell_type": "code",
   "execution_count": 157,
   "metadata": {},
   "outputs": [
    {
     "name": "stdout",
     "output_type": "stream",
     "text": [
      "[260, 248, 336, 231]\n"
     ]
    }
   ],
   "source": [
    "print(selected_females)"
   ]
  },
  {
   "cell_type": "code",
   "execution_count": 158,
   "metadata": {},
   "outputs": [
    {
     "name": "stdout",
     "output_type": "stream",
     "text": [
      "[]\n",
      "femeas: 260\n",
      "machos: 534\n",
      "filho: 297\n",
      "filhos: [409, 450, 324, 519, 365, 321, 262, 297]\n",
      "femeas: 248\n",
      "machos: 391\n",
      "filho: 350\n",
      "filhos: [409, 450, 324, 519, 365, 321, 262, 297, 345, 291, 265, 284, 264, 333, 291, 350]\n",
      "femeas: 336\n",
      "machos: 457\n",
      "filho: 421\n",
      "filhos: [409, 450, 324, 519, 365, 321, 262, 297, 345, 291, 265, 284, 264, 333, 291, 350, 427, 346, 370, 378, 418, 383, 447, 421]\n",
      "femeas: 231\n",
      "machos: 580\n",
      "filho: 554\n",
      "filhos: [409, 450, 324, 519, 365, 321, 262, 297, 345, 291, 265, 284, 264, 333, 291, 350, 427, 346, 370, 378, 418, 383, 447, 421, 435, 335, 359, 388, 482, 276, 478, 554]\n"
     ]
    }
   ],
   "source": [
    "print(children)\n",
    "for male, female in zip(selected_males, selected_females):\n",
    "    for child in range(litter_size):\n",
    "        child = random.randint(female, male)\n",
    "        children.append(child)\n",
    "    print('femeas:', female)\n",
    "    print('machos:', male)\n",
    "    print('filho:', child)\n",
    "    print('filhos:', children)"
   ]
  },
  {
   "cell_type": "code",
   "execution_count": 159,
   "metadata": {},
   "outputs": [],
   "source": [
    "mutate_odds = 0.01\n",
    "mutate_min = 0.5\n",
    "mutate_max = 1.2\n",
    "#    \"\"\"Randomly alter rat weights using input odds & fractional changes.\"\"\"\n",
    "for index, rat in enumerate(children):\n",
    "    if mutate_odds >= random.random():\n",
    "        children[index] = round(rat * random.uniform(mutate_min, mutate_max))"
   ]
  },
  {
   "cell_type": "code",
   "execution_count": 160,
   "metadata": {},
   "outputs": [
    {
     "name": "stdout",
     "output_type": "stream",
     "text": [
      "[409, 450, 324, 519, 404, 321, 262, 297, 345, 291, 265, 284, 264, 333, 291, 350, 427, 346, 370, 378, 418, 383, 447, 421, 435, 335, 359, 388, 482, 276, 478, 554]\n"
     ]
    }
   ],
   "source": [
    "print(children)"
   ]
  },
  {
   "cell_type": "code",
   "execution_count": 172,
   "metadata": {},
   "outputs": [
    {
     "name": "stdout",
     "output_type": "stream",
     "text": [
      "0 409\n",
      "1 450\n",
      "2 324\n",
      "3 519\n",
      "4 404\n",
      "5 321\n",
      "6 262\n",
      "7 297\n",
      "8 345\n",
      "9 291\n",
      "10 265\n",
      "11 284\n",
      "12 264\n",
      "13 333\n",
      "14 291\n",
      "15 350\n",
      "16 427\n",
      "17 346\n",
      "18 370\n",
      "19 378\n",
      "20 418\n",
      "21 383\n",
      "22 447\n",
      "23 421\n",
      "24 435\n",
      "25 335\n",
      "26 359\n",
      "27 388\n",
      "28 482\n",
      "29 276\n",
      "30 478\n",
      "31 554\n"
     ]
    }
   ],
   "source": [
    "for index, rat in enumerate(children):\n",
    "    print(index, rat)"
   ]
  },
  {
   "cell_type": "code",
   "execution_count": 161,
   "metadata": {},
   "outputs": [],
   "source": [
    "parents = selected_males + selected_females + children"
   ]
  },
  {
   "cell_type": "code",
   "execution_count": 162,
   "metadata": {},
   "outputs": [
    {
     "name": "stdout",
     "output_type": "stream",
     "text": [
      "[534, 391, 457, 580, 260, 248, 336, 231, 409, 450, 324, 519, 404, 321, 262, 297, 345, 291, 265, 284, 264, 333, 291, 350, 427, 346, 370, 378, 418, 383, 447, 421, 435, 335, 359, 388, 482, 276, 478, 554]\n"
     ]
    }
   ],
   "source": [
    "print(parents)"
   ]
  },
  {
   "cell_type": "code",
   "execution_count": 163,
   "metadata": {},
   "outputs": [],
   "source": [
    "goal = 1000\n",
    "population = parents\n",
    "def fitness(population, goal):\n",
    "    \"\"\"Measure population fitness based on an attribute mean vs target.\"\"\"\n",
    "    ave = statistics.mean(population)\n",
    "    return ave / goal"
   ]
  },
  {
   "cell_type": "code",
   "execution_count": 167,
   "metadata": {},
   "outputs": [
    {
     "name": "stdout",
     "output_type": "stream",
     "text": [
      "Generation 0 fitness = 0.3736\n"
     ]
    }
   ],
   "source": [
    "ave_wt = []\n",
    "popl_fitness = fitness(parents, goal)\n",
    "print(\"Generation {} fitness = {:.4f}\".format(generations, popl_fitness))\n",
    "ave_wt.append(int(statistics.mean(parents)))\n",
    "generations += 1"
   ]
  },
  {
   "cell_type": "code",
   "execution_count": null,
   "metadata": {},
   "outputs": [],
   "source": []
  }
 ],
 "metadata": {
  "kernelspec": {
   "display_name": "Python 3",
   "language": "python",
   "name": "python3"
  },
  "language_info": {
   "codemirror_mode": {
    "name": "ipython",
    "version": 3
   },
   "file_extension": ".py",
   "mimetype": "text/x-python",
   "name": "python",
   "nbconvert_exporter": "python",
   "pygments_lexer": "ipython3",
   "version": "3.7.3"
  }
 },
 "nbformat": 4,
 "nbformat_minor": 2
}
