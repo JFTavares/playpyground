{
 "cells": [
  {
   "cell_type": "code",
   "execution_count": 37,
   "metadata": {},
   "outputs": [],
   "source": [
    "import math"
   ]
  },
  {
   "cell_type": "code",
   "execution_count": 45,
   "metadata": {},
   "outputs": [],
   "source": [
    "def Bhaskara( a, b, c ):\n",
    "\n",
    "    delta = (b ** 2) - (4 * a * c)\n",
    "\n",
    "    if ( delta < 0 ):\n",
    "        return None # Raiz Negativa\n",
    "  \n",
    "    x = math.sqrt(delta)\n",
    "\n",
    "    x1 = (-b + x) / (2 * a)\n",
    "    x2 = (-b - x) / (2 * a)\n",
    "\n",
    "    return x1, x2, delta"
   ]
  },
  {
   "cell_type": "code",
   "execution_count": 46,
   "metadata": {},
   "outputs": [
    {
     "name": "stdin",
     "output_type": "stream",
     "text": [
      "Digite um valor para A  4\n",
      "Digite um valor para B  -13\n",
      "Digute um valor para C  3\n"
     ]
    }
   ],
   "source": [
    "a = int(input('Digite um valor para A '))\n",
    "b = int(input('Digite um valor para B '))\n",
    "c = int(input('Digute um valor para C '))\n",
    "\n",
    "x = Bhaskara(a, b, c)\n",
    "    "
   ]
  },
  {
   "cell_type": "code",
   "execution_count": 47,
   "metadata": {},
   "outputs": [
    {
     "name": "stdout",
     "output_type": "stream",
     "text": [
      "X1 = 3.0\n",
      "X2 = 0.25\n"
     ]
    }
   ],
   "source": [
    "if  x == None:\n",
    "    print(\"Delta negativo. Nenhuma raiz real\")\n",
    "\n",
    "elif x[0] == x[1]:\n",
    "    print('Delta = 0. Somente um resultado.\\nx = {}'.format(x[0]))\n",
    "    \n",
    "else:\n",
    "    print('X1 = {}'.format(x[0]))\n",
    "    print('X2 = {}'.format(x[1]))"
   ]
  },
  {
   "cell_type": "code",
   "execution_count": 48,
   "metadata": {},
   "outputs": [
    {
     "name": "stdout",
     "output_type": "stream",
     "text": [
      "====================\n",
      "Xv= 1.625\n",
      "====================\n",
      "Yv= -7.5625\n",
      "====================\n"
     ]
    }
   ],
   "source": [
    "delta = x[2]\n",
    "\n",
    "\n",
    "valor_x1 = x[0]\n",
    "valor_x2 = x[1]\n",
    "valor_xV = -(b)/(2*a)\n",
    "valor_yV = -(delta)/(4*a)\n",
    "print(\"=\"*20)\n",
    "print(\"Xv=\", valor_xV)\n",
    "print(\"=\"*20)\n",
    "print(\"Yv=\", valor_yV)\n",
    "print(\"=\"*20)"
   ]
  },
  {
   "cell_type": "code",
   "execution_count": 49,
   "metadata": {},
   "outputs": [
    {
     "name": "stdout",
     "output_type": "stream",
     "text": [
      "3\n"
     ]
    },
    {
     "data": {
      "image/png": "[encoded data removed]",
      "text/plain": [
       "<Figure size 432x288 with 1 Axes>"
      ]
     },
     "metadata": {
      "needs_background": "light"
     },
     "output_type": "display_data"
    }
   ],
   "source": [
    "import matplotlib.pyplot as plt\n",
    "import numpy as np\n",
    "eixo_x = []\n",
    "eixo_y = []\n",
    "zero = []\n",
    "\n",
    "variacao = abs(valor_x1 - valor_x2)\n",
    "if variacao < 3:\n",
    "    variacao = 3\n",
    "print(variacao)\n",
    "\n",
    "for x in np.arange(valor_x1 - variacao, valor_x2 + variacao, variacao / 100):\n",
    "    y= a * (x ** 2 ) + b * (x) + c\n",
    "    eixo_x.append(x)\n",
    "    eixo_y.append(y)\n",
    "    zero.append(0.0)\n",
    "plt.plot(eixo_x,eixo_y,color=\"blue\")\n",
    "plt.plot(eixo_x,zero,color=\"black\")\n",
    "plt.show()"
   ]
  },
  {
   "cell_type": "code",
   "execution_count": null,
   "metadata": {},
   "outputs": [],
   "source": []
  }
 ],
 "metadata": {
  "kernelspec": {
   "display_name": "Python 3",
   "language": "python",
   "name": "python3"
  },
  "language_info": {
   "codemirror_mode": {
    "name": "ipython",
    "version": 3
   },
   "file_extension": ".py",
   "mimetype": "text/x-python",
   "name": "python",
   "nbconvert_exporter": "python",
   "pygments_lexer": "ipython3",
   "version": "3.7.3"
  }
 },
 "nbformat": 4,
 "nbformat_minor": 2
}
